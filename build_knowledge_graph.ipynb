{
 "cells": [
  {
   "cell_type": "code",
   "execution_count": 2,
   "metadata": {},
   "outputs": [
    {
     "name": "stderr",
     "output_type": "stream",
     "text": [
      "[nltk_data] Downloading package punkt to /root/nltk_data...\n",
      "[nltk_data]   Package punkt is already up-to-date!\n",
      "[nltk_data] Downloading package punkt_tab to /root/nltk_data...\n",
      "[nltk_data]   Package punkt_tab is already up-to-date!\n"
     ]
    }
   ],
   "source": [
    "import re\n",
    "import nltk\n",
    "nltk.download('punkt')\n",
    "nltk.download('punkt_tab')\n",
    "\n",
    "from nltk.tokenize import sent_tokenize\n",
    "\n",
    "# Read the text file\n",
    "with open('input_text.txt', 'r') as file:\n",
    "    text = file.read()\n",
    "\n",
    "# Clean the text\n",
    "def clean_text(text):\n",
    "    text = re.sub(r'\\s+', ' ', text)  # Replace multiple spaces with single space\n",
    "    text = re.sub(r'[^\\w\\s]', '', text)  # Remove punctuation\n",
    "    return text.strip()\n",
    "\n",
    "cleaned_text = clean_text(text)\n",
    "\n",
    "# Tokenize into sentences\n",
    "sentences = sent_tokenize(cleaned_text)\n"
   ]
  },
  {
   "cell_type": "code",
   "execution_count": 3,
   "metadata": {},
   "outputs": [],
   "source": [
    "\n",
    "# Split the text into chunks\n",
    "\n",
    "from langchain.text_splitter import CharacterTextSplitter\n",
    "\n",
    "text_splitter = CharacterTextSplitter(chunk_size=1000, chunk_overlap=100)\n",
    "chunks = text_splitter.split_text(cleaned_text)\n",
    "\n",
    "\n"
   ]
  },
  {
   "cell_type": "code",
   "execution_count": 4,
   "metadata": {},
   "outputs": [
    {
     "name": "stderr",
     "output_type": "stream",
     "text": [
      "/root/P-KEvoGraphRAG/venv/lib/python3.12/site-packages/tqdm/auto.py:21: TqdmWarning: IProgress not found. Please update jupyter and ipywidgets. See https://ipywidgets.readthedocs.io/en/stable/user_install.html\n",
      "  from .autonotebook import tqdm as notebook_tqdm\n",
      "Some weights of the model checkpoint at dbmdz/bert-large-cased-finetuned-conll03-english were not used when initializing BertForTokenClassification: ['bert.pooler.dense.bias', 'bert.pooler.dense.weight']\n",
      "- This IS expected if you are initializing BertForTokenClassification from the checkpoint of a model trained on another task or with another architecture (e.g. initializing a BertForSequenceClassification model from a BertForPreTraining model).\n",
      "- This IS NOT expected if you are initializing BertForTokenClassification from the checkpoint of a model that you expect to be exactly identical (initializing a BertForSequenceClassification model from a BertForSequenceClassification model).\n",
      "Device set to use cpu\n"
     ]
    }
   ],
   "source": [
    "\n",
    "# Extract entities from the text\n",
    "from transformers import pipeline\n",
    "\n",
    "ner_pipeline = pipeline(\"ner\", model=\"dbmdz/bert-large-cased-finetuned-conll03-english\")\n",
    "\n",
    "def extract_entities(chunk):\n",
    "    entities = ner_pipeline(chunk)\n",
    "    return [entity['word'] for entity in entities if entity['entity'] in ['B-PER', 'B-ORG', 'B-LOC']]\n",
    "\n",
    "concepts = [extract_entities(chunk) for chunk in chunks]\n"
   ]
  },
  {
   "cell_type": "code",
   "execution_count": 6,
   "metadata": {},
   "outputs": [
    {
     "name": "stdout",
     "output_type": "stream",
     "text": [
      "[[]]\n"
     ]
    }
   ],
   "source": [
    "\n",
    "\n",
    "\n",
    "# Extract embeddings for the chunks\n",
    "from sentence_transformers import SentenceTransformer\n",
    "\n",
    "model = SentenceTransformer('all-MiniLM-L6-v2')\n",
    "embeddings = model.encode(chunks)  # Not used directly here, but useful for future enhancements\n",
    "\n",
    "\n",
    "relationships = []\n",
    "for chunk_concepts in concepts:\n",
    "    for i in range(len(chunk_concepts)):\n",
    "        for j in range(i + 1, len(chunk_concepts)):\n",
    "            relationships.append((chunk_concepts[i], chunk_concepts[j]))\n",
    "\n",
    "\n",
    "\n",
    "print(concepts)"
   ]
  },
  {
   "cell_type": "code",
   "execution_count": 7,
   "metadata": {},
   "outputs": [
    {
     "name": "stderr",
     "output_type": "stream",
     "text": [
      "Some weights of the model checkpoint at dbmdz/bert-large-cased-finetuned-conll03-english were not used when initializing BertForTokenClassification: ['bert.pooler.dense.bias', 'bert.pooler.dense.weight']\n",
      "- This IS expected if you are initializing BertForTokenClassification from the checkpoint of a model trained on another task or with another architecture (e.g. initializing a BertForSequenceClassification model from a BertForPreTraining model).\n",
      "- This IS NOT expected if you are initializing BertForTokenClassification from the checkpoint of a model that you expect to be exactly identical (initializing a BertForSequenceClassification model from a BertForSequenceClassification model).\n",
      "Device set to use cpu\n"
     ]
    },
    {
     "name": "stdout",
     "output_type": "stream",
     "text": [
      "Chunk: Songlin Zhao Curriculum Vitae  February 2025 A BIO... | Entities: []\n",
      "Concepts: [[]]\n",
      "Chunk concepts: []\n",
      "Relationships: []\n"
     ]
    }
   ],
   "source": [
    "# Extract concepts\n",
    "ner_pipeline = pipeline(\"ner\", model=\"dbmdz/bert-large-cased-finetuned-conll03-english\")\n",
    "\n",
    "def extract_entities(chunk):\n",
    "    entities = ner_pipeline(chunk)\n",
    "    extracted = [entity['word'] for entity in entities if entity['entity'] in ['B-PER', 'B-ORG', 'B-LOC']]\n",
    "    print(f\"Chunk: {chunk[:50]}... | Entities: {extracted}\")  # Debugging\n",
    "    return extracted\n",
    "\n",
    "concepts = [extract_entities(chunk) for chunk in chunks]\n",
    "print(f\"Concepts: {concepts}\")  # Debugging\n",
    "\n",
    "# Extract relationships\n",
    "relationships = []\n",
    "for chunk_concepts in concepts:\n",
    "    print(f\"Chunk concepts: {chunk_concepts}\")  # Debugging\n",
    "    for i in range(len(chunk_concepts)):\n",
    "        for j in range(i + 1, len(chunk_concepts)):\n",
    "            relationships.append((chunk_concepts[i], chunk_concepts[j]))\n",
    "\n",
    "print(f\"Relationships: {relationships}\")"
   ]
  },
  {
   "cell_type": "code",
   "execution_count": 8,
   "metadata": {},
   "outputs": [
    {
     "name": "stderr",
     "output_type": "stream",
     "text": [
      "Some weights of the model checkpoint at dbmdz/bert-large-cased-finetuned-conll03-english were not used when initializing BertForTokenClassification: ['bert.pooler.dense.bias', 'bert.pooler.dense.weight']\n",
      "- This IS expected if you are initializing BertForTokenClassification from the checkpoint of a model trained on another task or with another architecture (e.g. initializing a BertForSequenceClassification model from a BertForPreTraining model).\n",
      "- This IS NOT expected if you are initializing BertForTokenClassification from the checkpoint of a model that you expect to be exactly identical (initializing a BertForSequenceClassification model from a BertForSequenceClassification model).\n",
      "Device set to use cpu\n"
     ]
    },
    {
     "name": "stdout",
     "output_type": "stream",
     "text": [
      "Raw entities: [{'entity': 'I-ORG', 'score': np.float32(0.8847604), 'index': 1, 'word': 'Song', 'start': 0, 'end': 4}, {'entity': 'I-ORG', 'score': np.float32(0.78380275), 'index': 2, 'word': '##lin', 'start': 4, 'end': 7}, {'entity': 'I-ORG', 'score': np.float32(0.8048907), 'index': 3, 'word': 'Zhao', 'start': 8, 'end': 12}, {'entity': 'I-ORG', 'score': np.float32(0.6209739), 'index': 14, 'word': 'B', 'start': 46, 'end': 47}, {'entity': 'I-MISC', 'score': np.float32(0.36976373), 'index': 15, 'word': '##IO', 'start': 47, 'end': 49}]\n",
      "Extracted entities: []\n"
     ]
    }
   ],
   "source": [
    "from transformers import pipeline\n",
    "\n",
    "ner_pipeline = pipeline(\"ner\", model=\"dbmdz/bert-large-cased-finetuned-conll03-english\")\n",
    "text = \"Songlin Zhao Curriculum Vitae February 2025 A BIOGRAPHY\"\n",
    "\n",
    "entities = ner_pipeline(text)\n",
    "print(\"Raw entities:\", entities)\n",
    "extracted = [entity['word'] for entity in entities if entity['entity'].startswith('B-')]\n",
    "print(\"Extracted entities:\", extracted)"
   ]
  },
  {
   "cell_type": "code",
   "execution_count": 15,
   "metadata": {},
   "outputs": [
    {
     "name": "stderr",
     "output_type": "stream",
     "text": [
      "[nltk_data] Downloading package punkt to /root/nltk_data...\n",
      "[nltk_data]   Package punkt is already up-to-date!\n",
      "Some weights of the model checkpoint at dslim/bert-base-NER were not used when initializing BertForTokenClassification: ['bert.pooler.dense.bias', 'bert.pooler.dense.weight']\n",
      "- This IS expected if you are initializing BertForTokenClassification from the checkpoint of a model trained on another task or with another architecture (e.g. initializing a BertForSequenceClassification model from a BertForPreTraining model).\n",
      "- This IS NOT expected if you are initializing BertForTokenClassification from the checkpoint of a model that you expect to be exactly identical (initializing a BertForSequenceClassification model from a BertForSequenceClassification model).\n",
      "Device set to use cpu\n"
     ]
    },
    {
     "name": "stdout",
     "output_type": "stream",
     "text": [
      "Number of chunks: 1\n",
      "Chunk: **Songlin Zhao** **Curriculum Vitae - February 202... | Entities: ['Song', '##lin Zhao', 'C Vita ##AP Drive Lehigh University Bethlehem', 'PA', 'Computer Science', 'Lehigh University', 'Bethlehem', 'PA', 'Li He', 'Research Inter', 'Lehigh University', 'Bethlehem', 'PA', 'Li', '##o Sun', 'B . S', 'Computer Science', 'Tong ##ji University', 'Shanghai', 'China', 'Da', '##wei Cheng', 'Xi Lu', 'Song', '##lin Zhao', 'Yun Z ##ong', 'Yong Chen', 'G', '##ui Shu ##ang Ying', 'Li', '##g He', 'Re ##l Disease', 'AAA', 'AI for Health', 'B', '##ur ##ling ##ame', 'California', 'USA', 'Song ##lin Zhao', 'Ron', '##g Zhou', 'Yu Zhang', 'Yong Chen', 'B', 'Computing', 'AI Springer', 'Chen', 'Li']\n",
      "Concepts: [['Song', '##lin Zhao', 'C Vita ##AP Drive Lehigh University Bethlehem', 'PA', 'Computer Science', 'Lehigh University', 'Bethlehem', 'PA', 'Li He', 'Research Inter', 'Lehigh University', 'Bethlehem', 'PA', 'Li', '##o Sun', 'B . S', 'Computer Science', 'Tong ##ji University', 'Shanghai', 'China', 'Da', '##wei Cheng', 'Xi Lu', 'Song', '##lin Zhao', 'Yun Z ##ong', 'Yong Chen', 'G', '##ui Shu ##ang Ying', 'Li', '##g He', 'Re ##l Disease', 'AAA', 'AI for Health', 'B', '##ur ##ling ##ame', 'California', 'USA', 'Song ##lin Zhao', 'Ron', '##g Zhou', 'Yu Zhang', 'Yong Chen', 'B', 'Computing', 'AI Springer', 'Chen', 'Li']]\n",
      "Chunk concepts: ['Song', '##lin Zhao', 'C Vita ##AP Drive Lehigh University Bethlehem', 'PA', 'Computer Science', 'Lehigh University', 'Bethlehem', 'PA', 'Li He', 'Research Inter', 'Lehigh University', 'Bethlehem', 'PA', 'Li', '##o Sun', 'B . S', 'Computer Science', 'Tong ##ji University', 'Shanghai', 'China', 'Da', '##wei Cheng', 'Xi Lu', 'Song', '##lin Zhao', 'Yun Z ##ong', 'Yong Chen', 'G', '##ui Shu ##ang Ying', 'Li', '##g He', 'Re ##l Disease', 'AAA', 'AI for Health', 'B', '##ur ##ling ##ame', 'California', 'USA', 'Song ##lin Zhao', 'Ron', '##g Zhou', 'Yu Zhang', 'Yong Chen', 'B', 'Computing', 'AI Springer', 'Chen', 'Li']\n",
      "Relationships: [('Song', '##lin Zhao'), ('Song', 'C Vita ##AP Drive Lehigh University Bethlehem'), ('Song', 'PA'), ('Song', 'Computer Science'), ('Song', 'Lehigh University'), ('Song', 'Bethlehem'), ('Song', 'PA'), ('Song', 'Li He'), ('Song', 'Research Inter'), ('Song', 'Lehigh University'), ('Song', 'Bethlehem'), ('Song', 'PA'), ('Song', 'Li'), ('Song', '##o Sun'), ('Song', 'B . S'), ('Song', 'Computer Science'), ('Song', 'Tong ##ji University'), ('Song', 'Shanghai'), ('Song', 'China'), ('Song', 'Da'), ('Song', '##wei Cheng'), ('Song', 'Xi Lu'), ('Song', 'Song'), ('Song', '##lin Zhao'), ('Song', 'Yun Z ##ong'), ('Song', 'Yong Chen'), ('Song', 'G'), ('Song', '##ui Shu ##ang Ying'), ('Song', 'Li'), ('Song', '##g He'), ('Song', 'Re ##l Disease'), ('Song', 'AAA'), ('Song', 'AI for Health'), ('Song', 'B'), ('Song', '##ur ##ling ##ame'), ('Song', 'California'), ('Song', 'USA'), ('Song', 'Song ##lin Zhao'), ('Song', 'Ron'), ('Song', '##g Zhou'), ('Song', 'Yu Zhang'), ('Song', 'Yong Chen'), ('Song', 'B'), ('Song', 'Computing'), ('Song', 'AI Springer'), ('Song', 'Chen'), ('Song', 'Li'), ('##lin Zhao', 'C Vita ##AP Drive Lehigh University Bethlehem'), ('##lin Zhao', 'PA'), ('##lin Zhao', 'Computer Science'), ('##lin Zhao', 'Lehigh University'), ('##lin Zhao', 'Bethlehem'), ('##lin Zhao', 'PA'), ('##lin Zhao', 'Li He'), ('##lin Zhao', 'Research Inter'), ('##lin Zhao', 'Lehigh University'), ('##lin Zhao', 'Bethlehem'), ('##lin Zhao', 'PA'), ('##lin Zhao', 'Li'), ('##lin Zhao', '##o Sun'), ('##lin Zhao', 'B . S'), ('##lin Zhao', 'Computer Science'), ('##lin Zhao', 'Tong ##ji University'), ('##lin Zhao', 'Shanghai'), ('##lin Zhao', 'China'), ('##lin Zhao', 'Da'), ('##lin Zhao', '##wei Cheng'), ('##lin Zhao', 'Xi Lu'), ('##lin Zhao', 'Song'), ('##lin Zhao', '##lin Zhao'), ('##lin Zhao', 'Yun Z ##ong'), ('##lin Zhao', 'Yong Chen'), ('##lin Zhao', 'G'), ('##lin Zhao', '##ui Shu ##ang Ying'), ('##lin Zhao', 'Li'), ('##lin Zhao', '##g He'), ('##lin Zhao', 'Re ##l Disease'), ('##lin Zhao', 'AAA'), ('##lin Zhao', 'AI for Health'), ('##lin Zhao', 'B'), ('##lin Zhao', '##ur ##ling ##ame'), ('##lin Zhao', 'California'), ('##lin Zhao', 'USA'), ('##lin Zhao', 'Song ##lin Zhao'), ('##lin Zhao', 'Ron'), ('##lin Zhao', '##g Zhou'), ('##lin Zhao', 'Yu Zhang'), ('##lin Zhao', 'Yong Chen'), ('##lin Zhao', 'B'), ('##lin Zhao', 'Computing'), ('##lin Zhao', 'AI Springer'), ('##lin Zhao', 'Chen'), ('##lin Zhao', 'Li'), ('C Vita ##AP Drive Lehigh University Bethlehem', 'PA'), ('C Vita ##AP Drive Lehigh University Bethlehem', 'Computer Science'), ('C Vita ##AP Drive Lehigh University Bethlehem', 'Lehigh University'), ('C Vita ##AP Drive Lehigh University Bethlehem', 'Bethlehem'), ('C Vita ##AP Drive Lehigh University Bethlehem', 'PA'), ('C Vita ##AP Drive Lehigh University Bethlehem', 'Li He'), ('C Vita ##AP Drive Lehigh University Bethlehem', 'Research Inter'), ('C Vita ##AP Drive Lehigh University Bethlehem', 'Lehigh University'), ('C Vita ##AP Drive Lehigh University Bethlehem', 'Bethlehem'), ('C Vita ##AP Drive Lehigh University Bethlehem', 'PA'), ('C Vita ##AP Drive Lehigh University Bethlehem', 'Li'), ('C Vita ##AP Drive Lehigh University Bethlehem', '##o Sun'), ('C Vita ##AP Drive Lehigh University Bethlehem', 'B . S'), ('C Vita ##AP Drive Lehigh University Bethlehem', 'Computer Science'), ('C Vita ##AP Drive Lehigh University Bethlehem', 'Tong ##ji University'), ('C Vita ##AP Drive Lehigh University Bethlehem', 'Shanghai'), ('C Vita ##AP Drive Lehigh University Bethlehem', 'China'), ('C Vita ##AP Drive Lehigh University Bethlehem', 'Da'), ('C Vita ##AP Drive Lehigh University Bethlehem', '##wei Cheng'), ('C Vita ##AP Drive Lehigh University Bethlehem', 'Xi Lu'), ('C Vita ##AP Drive Lehigh University Bethlehem', 'Song'), ('C Vita ##AP Drive Lehigh University Bethlehem', '##lin Zhao'), ('C Vita ##AP Drive Lehigh University Bethlehem', 'Yun Z ##ong'), ('C Vita ##AP Drive Lehigh University Bethlehem', 'Yong Chen'), ('C Vita ##AP Drive Lehigh University Bethlehem', 'G'), ('C Vita ##AP Drive Lehigh University Bethlehem', '##ui Shu ##ang Ying'), ('C Vita ##AP Drive Lehigh University Bethlehem', 'Li'), ('C Vita ##AP Drive Lehigh University Bethlehem', '##g He'), ('C Vita ##AP Drive Lehigh University Bethlehem', 'Re ##l Disease'), ('C Vita ##AP Drive Lehigh University Bethlehem', 'AAA'), ('C Vita ##AP Drive Lehigh University Bethlehem', 'AI for Health'), ('C Vita ##AP Drive Lehigh University Bethlehem', 'B'), ('C Vita ##AP Drive Lehigh University Bethlehem', '##ur ##ling ##ame'), ('C Vita ##AP Drive Lehigh University Bethlehem', 'California'), ('C Vita ##AP Drive Lehigh University Bethlehem', 'USA'), ('C Vita ##AP Drive Lehigh University Bethlehem', 'Song ##lin Zhao'), ('C Vita ##AP Drive Lehigh University Bethlehem', 'Ron'), ('C Vita ##AP Drive Lehigh University Bethlehem', '##g Zhou'), ('C Vita ##AP Drive Lehigh University Bethlehem', 'Yu Zhang'), ('C Vita ##AP Drive Lehigh University Bethlehem', 'Yong Chen'), ('C Vita ##AP Drive Lehigh University Bethlehem', 'B'), ('C Vita ##AP Drive Lehigh University Bethlehem', 'Computing'), ('C Vita ##AP Drive Lehigh University Bethlehem', 'AI Springer'), ('C Vita ##AP Drive Lehigh University Bethlehem', 'Chen'), ('C Vita ##AP Drive Lehigh University Bethlehem', 'Li'), ('PA', 'Computer Science'), ('PA', 'Lehigh University'), ('PA', 'Bethlehem'), ('PA', 'PA'), ('PA', 'Li He'), ('PA', 'Research Inter'), ('PA', 'Lehigh University'), ('PA', 'Bethlehem'), ('PA', 'PA'), ('PA', 'Li'), ('PA', '##o Sun'), ('PA', 'B . S'), ('PA', 'Computer Science'), ('PA', 'Tong ##ji University'), ('PA', 'Shanghai'), ('PA', 'China'), ('PA', 'Da'), ('PA', '##wei Cheng'), ('PA', 'Xi Lu'), ('PA', 'Song'), ('PA', '##lin Zhao'), ('PA', 'Yun Z ##ong'), ('PA', 'Yong Chen'), ('PA', 'G'), ('PA', '##ui Shu ##ang Ying'), ('PA', 'Li'), ('PA', '##g He'), ('PA', 'Re ##l Disease'), ('PA', 'AAA'), ('PA', 'AI for Health'), ('PA', 'B'), ('PA', '##ur ##ling ##ame'), ('PA', 'California'), ('PA', 'USA'), ('PA', 'Song ##lin Zhao'), ('PA', 'Ron'), ('PA', '##g Zhou'), ('PA', 'Yu Zhang'), ('PA', 'Yong Chen'), ('PA', 'B'), ('PA', 'Computing'), ('PA', 'AI Springer'), ('PA', 'Chen'), ('PA', 'Li'), ('Computer Science', 'Lehigh University'), ('Computer Science', 'Bethlehem'), ('Computer Science', 'PA'), ('Computer Science', 'Li He'), ('Computer Science', 'Research Inter'), ('Computer Science', 'Lehigh University'), ('Computer Science', 'Bethlehem'), ('Computer Science', 'PA'), ('Computer Science', 'Li'), ('Computer Science', '##o Sun'), ('Computer Science', 'B . S'), ('Computer Science', 'Computer Science'), ('Computer Science', 'Tong ##ji University'), ('Computer Science', 'Shanghai'), ('Computer Science', 'China'), ('Computer Science', 'Da'), ('Computer Science', '##wei Cheng'), ('Computer Science', 'Xi Lu'), ('Computer Science', 'Song'), ('Computer Science', '##lin Zhao'), ('Computer Science', 'Yun Z ##ong'), ('Computer Science', 'Yong Chen'), ('Computer Science', 'G'), ('Computer Science', '##ui Shu ##ang Ying'), ('Computer Science', 'Li'), ('Computer Science', '##g He'), ('Computer Science', 'Re ##l Disease'), ('Computer Science', 'AAA'), ('Computer Science', 'AI for Health'), ('Computer Science', 'B'), ('Computer Science', '##ur ##ling ##ame'), ('Computer Science', 'California'), ('Computer Science', 'USA'), ('Computer Science', 'Song ##lin Zhao'), ('Computer Science', 'Ron'), ('Computer Science', '##g Zhou'), ('Computer Science', 'Yu Zhang'), ('Computer Science', 'Yong Chen'), ('Computer Science', 'B'), ('Computer Science', 'Computing'), ('Computer Science', 'AI Springer'), ('Computer Science', 'Chen'), ('Computer Science', 'Li'), ('Lehigh University', 'Bethlehem'), ('Lehigh University', 'PA'), ('Lehigh University', 'Li He'), ('Lehigh University', 'Research Inter'), ('Lehigh University', 'Lehigh University'), ('Lehigh University', 'Bethlehem'), ('Lehigh University', 'PA'), ('Lehigh University', 'Li'), ('Lehigh University', '##o Sun'), ('Lehigh University', 'B . S'), ('Lehigh University', 'Computer Science'), ('Lehigh University', 'Tong ##ji University'), ('Lehigh University', 'Shanghai'), ('Lehigh University', 'China'), ('Lehigh University', 'Da'), ('Lehigh University', '##wei Cheng'), ('Lehigh University', 'Xi Lu'), ('Lehigh University', 'Song'), ('Lehigh University', '##lin Zhao'), ('Lehigh University', 'Yun Z ##ong'), ('Lehigh University', 'Yong Chen'), ('Lehigh University', 'G'), ('Lehigh University', '##ui Shu ##ang Ying'), ('Lehigh University', 'Li'), ('Lehigh University', '##g He'), ('Lehigh University', 'Re ##l Disease'), ('Lehigh University', 'AAA'), ('Lehigh University', 'AI for Health'), ('Lehigh University', 'B'), ('Lehigh University', '##ur ##ling ##ame'), ('Lehigh University', 'California'), ('Lehigh University', 'USA'), ('Lehigh University', 'Song ##lin Zhao'), ('Lehigh University', 'Ron'), ('Lehigh University', '##g Zhou'), ('Lehigh University', 'Yu Zhang'), ('Lehigh University', 'Yong Chen'), ('Lehigh University', 'B'), ('Lehigh University', 'Computing'), ('Lehigh University', 'AI Springer'), ('Lehigh University', 'Chen'), ('Lehigh University', 'Li'), ('Bethlehem', 'PA'), ('Bethlehem', 'Li He'), ('Bethlehem', 'Research Inter'), ('Bethlehem', 'Lehigh University'), ('Bethlehem', 'Bethlehem'), ('Bethlehem', 'PA'), ('Bethlehem', 'Li'), ('Bethlehem', '##o Sun'), ('Bethlehem', 'B . S'), ('Bethlehem', 'Computer Science'), ('Bethlehem', 'Tong ##ji University'), ('Bethlehem', 'Shanghai'), ('Bethlehem', 'China'), ('Bethlehem', 'Da'), ('Bethlehem', '##wei Cheng'), ('Bethlehem', 'Xi Lu'), ('Bethlehem', 'Song'), ('Bethlehem', '##lin Zhao'), ('Bethlehem', 'Yun Z ##ong'), ('Bethlehem', 'Yong Chen'), ('Bethlehem', 'G'), ('Bethlehem', '##ui Shu ##ang Ying'), ('Bethlehem', 'Li'), ('Bethlehem', '##g He'), ('Bethlehem', 'Re ##l Disease'), ('Bethlehem', 'AAA'), ('Bethlehem', 'AI for Health'), ('Bethlehem', 'B'), ('Bethlehem', '##ur ##ling ##ame'), ('Bethlehem', 'California'), ('Bethlehem', 'USA'), ('Bethlehem', 'Song ##lin Zhao'), ('Bethlehem', 'Ron'), ('Bethlehem', '##g Zhou'), ('Bethlehem', 'Yu Zhang'), ('Bethlehem', 'Yong Chen'), ('Bethlehem', 'B'), ('Bethlehem', 'Computing'), ('Bethlehem', 'AI Springer'), ('Bethlehem', 'Chen'), ('Bethlehem', 'Li'), ('PA', 'Li He'), ('PA', 'Research Inter'), ('PA', 'Lehigh University'), ('PA', 'Bethlehem'), ('PA', 'PA'), ('PA', 'Li'), ('PA', '##o Sun'), ('PA', 'B . S'), ('PA', 'Computer Science'), ('PA', 'Tong ##ji University'), ('PA', 'Shanghai'), ('PA', 'China'), ('PA', 'Da'), ('PA', '##wei Cheng'), ('PA', 'Xi Lu'), ('PA', 'Song'), ('PA', '##lin Zhao'), ('PA', 'Yun Z ##ong'), ('PA', 'Yong Chen'), ('PA', 'G'), ('PA', '##ui Shu ##ang Ying'), ('PA', 'Li'), ('PA', '##g He'), ('PA', 'Re ##l Disease'), ('PA', 'AAA'), ('PA', 'AI for Health'), ('PA', 'B'), ('PA', '##ur ##ling ##ame'), ('PA', 'California'), ('PA', 'USA'), ('PA', 'Song ##lin Zhao'), ('PA', 'Ron'), ('PA', '##g Zhou'), ('PA', 'Yu Zhang'), ('PA', 'Yong Chen'), ('PA', 'B'), ('PA', 'Computing'), ('PA', 'AI Springer'), ('PA', 'Chen'), ('PA', 'Li'), ('Li He', 'Research Inter'), ('Li He', 'Lehigh University'), ('Li He', 'Bethlehem'), ('Li He', 'PA'), ('Li He', 'Li'), ('Li He', '##o Sun'), ('Li He', 'B . S'), ('Li He', 'Computer Science'), ('Li He', 'Tong ##ji University'), ('Li He', 'Shanghai'), ('Li He', 'China'), ('Li He', 'Da'), ('Li He', '##wei Cheng'), ('Li He', 'Xi Lu'), ('Li He', 'Song'), ('Li He', '##lin Zhao'), ('Li He', 'Yun Z ##ong'), ('Li He', 'Yong Chen'), ('Li He', 'G'), ('Li He', '##ui Shu ##ang Ying'), ('Li He', 'Li'), ('Li He', '##g He'), ('Li He', 'Re ##l Disease'), ('Li He', 'AAA'), ('Li He', 'AI for Health'), ('Li He', 'B'), ('Li He', '##ur ##ling ##ame'), ('Li He', 'California'), ('Li He', 'USA'), ('Li He', 'Song ##lin Zhao'), ('Li He', 'Ron'), ('Li He', '##g Zhou'), ('Li He', 'Yu Zhang'), ('Li He', 'Yong Chen'), ('Li He', 'B'), ('Li He', 'Computing'), ('Li He', 'AI Springer'), ('Li He', 'Chen'), ('Li He', 'Li'), ('Research Inter', 'Lehigh University'), ('Research Inter', 'Bethlehem'), ('Research Inter', 'PA'), ('Research Inter', 'Li'), ('Research Inter', '##o Sun'), ('Research Inter', 'B . S'), ('Research Inter', 'Computer Science'), ('Research Inter', 'Tong ##ji University'), ('Research Inter', 'Shanghai'), ('Research Inter', 'China'), ('Research Inter', 'Da'), ('Research Inter', '##wei Cheng'), ('Research Inter', 'Xi Lu'), ('Research Inter', 'Song'), ('Research Inter', '##lin Zhao'), ('Research Inter', 'Yun Z ##ong'), ('Research Inter', 'Yong Chen'), ('Research Inter', 'G'), ('Research Inter', '##ui Shu ##ang Ying'), ('Research Inter', 'Li'), ('Research Inter', '##g He'), ('Research Inter', 'Re ##l Disease'), ('Research Inter', 'AAA'), ('Research Inter', 'AI for Health'), ('Research Inter', 'B'), ('Research Inter', '##ur ##ling ##ame'), ('Research Inter', 'California'), ('Research Inter', 'USA'), ('Research Inter', 'Song ##lin Zhao'), ('Research Inter', 'Ron'), ('Research Inter', '##g Zhou'), ('Research Inter', 'Yu Zhang'), ('Research Inter', 'Yong Chen'), ('Research Inter', 'B'), ('Research Inter', 'Computing'), ('Research Inter', 'AI Springer'), ('Research Inter', 'Chen'), ('Research Inter', 'Li'), ('Lehigh University', 'Bethlehem'), ('Lehigh University', 'PA'), ('Lehigh University', 'Li'), ('Lehigh University', '##o Sun'), ('Lehigh University', 'B . S'), ('Lehigh University', 'Computer Science'), ('Lehigh University', 'Tong ##ji University'), ('Lehigh University', 'Shanghai'), ('Lehigh University', 'China'), ('Lehigh University', 'Da'), ('Lehigh University', '##wei Cheng'), ('Lehigh University', 'Xi Lu'), ('Lehigh University', 'Song'), ('Lehigh University', '##lin Zhao'), ('Lehigh University', 'Yun Z ##ong'), ('Lehigh University', 'Yong Chen'), ('Lehigh University', 'G'), ('Lehigh University', '##ui Shu ##ang Ying'), ('Lehigh University', 'Li'), ('Lehigh University', '##g He'), ('Lehigh University', 'Re ##l Disease'), ('Lehigh University', 'AAA'), ('Lehigh University', 'AI for Health'), ('Lehigh University', 'B'), ('Lehigh University', '##ur ##ling ##ame'), ('Lehigh University', 'California'), ('Lehigh University', 'USA'), ('Lehigh University', 'Song ##lin Zhao'), ('Lehigh University', 'Ron'), ('Lehigh University', '##g Zhou'), ('Lehigh University', 'Yu Zhang'), ('Lehigh University', 'Yong Chen'), ('Lehigh University', 'B'), ('Lehigh University', 'Computing'), ('Lehigh University', 'AI Springer'), ('Lehigh University', 'Chen'), ('Lehigh University', 'Li'), ('Bethlehem', 'PA'), ('Bethlehem', 'Li'), ('Bethlehem', '##o Sun'), ('Bethlehem', 'B . S'), ('Bethlehem', 'Computer Science'), ('Bethlehem', 'Tong ##ji University'), ('Bethlehem', 'Shanghai'), ('Bethlehem', 'China'), ('Bethlehem', 'Da'), ('Bethlehem', '##wei Cheng'), ('Bethlehem', 'Xi Lu'), ('Bethlehem', 'Song'), ('Bethlehem', '##lin Zhao'), ('Bethlehem', 'Yun Z ##ong'), ('Bethlehem', 'Yong Chen'), ('Bethlehem', 'G'), ('Bethlehem', '##ui Shu ##ang Ying'), ('Bethlehem', 'Li'), ('Bethlehem', '##g He'), ('Bethlehem', 'Re ##l Disease'), ('Bethlehem', 'AAA'), ('Bethlehem', 'AI for Health'), ('Bethlehem', 'B'), ('Bethlehem', '##ur ##ling ##ame'), ('Bethlehem', 'California'), ('Bethlehem', 'USA'), ('Bethlehem', 'Song ##lin Zhao'), ('Bethlehem', 'Ron'), ('Bethlehem', '##g Zhou'), ('Bethlehem', 'Yu Zhang'), ('Bethlehem', 'Yong Chen'), ('Bethlehem', 'B'), ('Bethlehem', 'Computing'), ('Bethlehem', 'AI Springer'), ('Bethlehem', 'Chen'), ('Bethlehem', 'Li'), ('PA', 'Li'), ('PA', '##o Sun'), ('PA', 'B . S'), ('PA', 'Computer Science'), ('PA', 'Tong ##ji University'), ('PA', 'Shanghai'), ('PA', 'China'), ('PA', 'Da'), ('PA', '##wei Cheng'), ('PA', 'Xi Lu'), ('PA', 'Song'), ('PA', '##lin Zhao'), ('PA', 'Yun Z ##ong'), ('PA', 'Yong Chen'), ('PA', 'G'), ('PA', '##ui Shu ##ang Ying'), ('PA', 'Li'), ('PA', '##g He'), ('PA', 'Re ##l Disease'), ('PA', 'AAA'), ('PA', 'AI for Health'), ('PA', 'B'), ('PA', '##ur ##ling ##ame'), ('PA', 'California'), ('PA', 'USA'), ('PA', 'Song ##lin Zhao'), ('PA', 'Ron'), ('PA', '##g Zhou'), ('PA', 'Yu Zhang'), ('PA', 'Yong Chen'), ('PA', 'B'), ('PA', 'Computing'), ('PA', 'AI Springer'), ('PA', 'Chen'), ('PA', 'Li'), ('Li', '##o Sun'), ('Li', 'B . S'), ('Li', 'Computer Science'), ('Li', 'Tong ##ji University'), ('Li', 'Shanghai'), ('Li', 'China'), ('Li', 'Da'), ('Li', '##wei Cheng'), ('Li', 'Xi Lu'), ('Li', 'Song'), ('Li', '##lin Zhao'), ('Li', 'Yun Z ##ong'), ('Li', 'Yong Chen'), ('Li', 'G'), ('Li', '##ui Shu ##ang Ying'), ('Li', 'Li'), ('Li', '##g He'), ('Li', 'Re ##l Disease'), ('Li', 'AAA'), ('Li', 'AI for Health'), ('Li', 'B'), ('Li', '##ur ##ling ##ame'), ('Li', 'California'), ('Li', 'USA'), ('Li', 'Song ##lin Zhao'), ('Li', 'Ron'), ('Li', '##g Zhou'), ('Li', 'Yu Zhang'), ('Li', 'Yong Chen'), ('Li', 'B'), ('Li', 'Computing'), ('Li', 'AI Springer'), ('Li', 'Chen'), ('Li', 'Li'), ('##o Sun', 'B . S'), ('##o Sun', 'Computer Science'), ('##o Sun', 'Tong ##ji University'), ('##o Sun', 'Shanghai'), ('##o Sun', 'China'), ('##o Sun', 'Da'), ('##o Sun', '##wei Cheng'), ('##o Sun', 'Xi Lu'), ('##o Sun', 'Song'), ('##o Sun', '##lin Zhao'), ('##o Sun', 'Yun Z ##ong'), ('##o Sun', 'Yong Chen'), ('##o Sun', 'G'), ('##o Sun', '##ui Shu ##ang Ying'), ('##o Sun', 'Li'), ('##o Sun', '##g He'), ('##o Sun', 'Re ##l Disease'), ('##o Sun', 'AAA'), ('##o Sun', 'AI for Health'), ('##o Sun', 'B'), ('##o Sun', '##ur ##ling ##ame'), ('##o Sun', 'California'), ('##o Sun', 'USA'), ('##o Sun', 'Song ##lin Zhao'), ('##o Sun', 'Ron'), ('##o Sun', '##g Zhou'), ('##o Sun', 'Yu Zhang'), ('##o Sun', 'Yong Chen'), ('##o Sun', 'B'), ('##o Sun', 'Computing'), ('##o Sun', 'AI Springer'), ('##o Sun', 'Chen'), ('##o Sun', 'Li'), ('B . S', 'Computer Science'), ('B . S', 'Tong ##ji University'), ('B . S', 'Shanghai'), ('B . S', 'China'), ('B . S', 'Da'), ('B . S', '##wei Cheng'), ('B . S', 'Xi Lu'), ('B . S', 'Song'), ('B . S', '##lin Zhao'), ('B . S', 'Yun Z ##ong'), ('B . S', 'Yong Chen'), ('B . S', 'G'), ('B . S', '##ui Shu ##ang Ying'), ('B . S', 'Li'), ('B . S', '##g He'), ('B . S', 'Re ##l Disease'), ('B . S', 'AAA'), ('B . S', 'AI for Health'), ('B . S', 'B'), ('B . S', '##ur ##ling ##ame'), ('B . S', 'California'), ('B . S', 'USA'), ('B . S', 'Song ##lin Zhao'), ('B . S', 'Ron'), ('B . S', '##g Zhou'), ('B . S', 'Yu Zhang'), ('B . S', 'Yong Chen'), ('B . S', 'B'), ('B . S', 'Computing'), ('B . S', 'AI Springer'), ('B . S', 'Chen'), ('B . S', 'Li'), ('Computer Science', 'Tong ##ji University'), ('Computer Science', 'Shanghai'), ('Computer Science', 'China'), ('Computer Science', 'Da'), ('Computer Science', '##wei Cheng'), ('Computer Science', 'Xi Lu'), ('Computer Science', 'Song'), ('Computer Science', '##lin Zhao'), ('Computer Science', 'Yun Z ##ong'), ('Computer Science', 'Yong Chen'), ('Computer Science', 'G'), ('Computer Science', '##ui Shu ##ang Ying'), ('Computer Science', 'Li'), ('Computer Science', '##g He'), ('Computer Science', 'Re ##l Disease'), ('Computer Science', 'AAA'), ('Computer Science', 'AI for Health'), ('Computer Science', 'B'), ('Computer Science', '##ur ##ling ##ame'), ('Computer Science', 'California'), ('Computer Science', 'USA'), ('Computer Science', 'Song ##lin Zhao'), ('Computer Science', 'Ron'), ('Computer Science', '##g Zhou'), ('Computer Science', 'Yu Zhang'), ('Computer Science', 'Yong Chen'), ('Computer Science', 'B'), ('Computer Science', 'Computing'), ('Computer Science', 'AI Springer'), ('Computer Science', 'Chen'), ('Computer Science', 'Li'), ('Tong ##ji University', 'Shanghai'), ('Tong ##ji University', 'China'), ('Tong ##ji University', 'Da'), ('Tong ##ji University', '##wei Cheng'), ('Tong ##ji University', 'Xi Lu'), ('Tong ##ji University', 'Song'), ('Tong ##ji University', '##lin Zhao'), ('Tong ##ji University', 'Yun Z ##ong'), ('Tong ##ji University', 'Yong Chen'), ('Tong ##ji University', 'G'), ('Tong ##ji University', '##ui Shu ##ang Ying'), ('Tong ##ji University', 'Li'), ('Tong ##ji University', '##g He'), ('Tong ##ji University', 'Re ##l Disease'), ('Tong ##ji University', 'AAA'), ('Tong ##ji University', 'AI for Health'), ('Tong ##ji University', 'B'), ('Tong ##ji University', '##ur ##ling ##ame'), ('Tong ##ji University', 'California'), ('Tong ##ji University', 'USA'), ('Tong ##ji University', 'Song ##lin Zhao'), ('Tong ##ji University', 'Ron'), ('Tong ##ji University', '##g Zhou'), ('Tong ##ji University', 'Yu Zhang'), ('Tong ##ji University', 'Yong Chen'), ('Tong ##ji University', 'B'), ('Tong ##ji University', 'Computing'), ('Tong ##ji University', 'AI Springer'), ('Tong ##ji University', 'Chen'), ('Tong ##ji University', 'Li'), ('Shanghai', 'China'), ('Shanghai', 'Da'), ('Shanghai', '##wei Cheng'), ('Shanghai', 'Xi Lu'), ('Shanghai', 'Song'), ('Shanghai', '##lin Zhao'), ('Shanghai', 'Yun Z ##ong'), ('Shanghai', 'Yong Chen'), ('Shanghai', 'G'), ('Shanghai', '##ui Shu ##ang Ying'), ('Shanghai', 'Li'), ('Shanghai', '##g He'), ('Shanghai', 'Re ##l Disease'), ('Shanghai', 'AAA'), ('Shanghai', 'AI for Health'), ('Shanghai', 'B'), ('Shanghai', '##ur ##ling ##ame'), ('Shanghai', 'California'), ('Shanghai', 'USA'), ('Shanghai', 'Song ##lin Zhao'), ('Shanghai', 'Ron'), ('Shanghai', '##g Zhou'), ('Shanghai', 'Yu Zhang'), ('Shanghai', 'Yong Chen'), ('Shanghai', 'B'), ('Shanghai', 'Computing'), ('Shanghai', 'AI Springer'), ('Shanghai', 'Chen'), ('Shanghai', 'Li'), ('China', 'Da'), ('China', '##wei Cheng'), ('China', 'Xi Lu'), ('China', 'Song'), ('China', '##lin Zhao'), ('China', 'Yun Z ##ong'), ('China', 'Yong Chen'), ('China', 'G'), ('China', '##ui Shu ##ang Ying'), ('China', 'Li'), ('China', '##g He'), ('China', 'Re ##l Disease'), ('China', 'AAA'), ('China', 'AI for Health'), ('China', 'B'), ('China', '##ur ##ling ##ame'), ('China', 'California'), ('China', 'USA'), ('China', 'Song ##lin Zhao'), ('China', 'Ron'), ('China', '##g Zhou'), ('China', 'Yu Zhang'), ('China', 'Yong Chen'), ('China', 'B'), ('China', 'Computing'), ('China', 'AI Springer'), ('China', 'Chen'), ('China', 'Li'), ('Da', '##wei Cheng'), ('Da', 'Xi Lu'), ('Da', 'Song'), ('Da', '##lin Zhao'), ('Da', 'Yun Z ##ong'), ('Da', 'Yong Chen'), ('Da', 'G'), ('Da', '##ui Shu ##ang Ying'), ('Da', 'Li'), ('Da', '##g He'), ('Da', 'Re ##l Disease'), ('Da', 'AAA'), ('Da', 'AI for Health'), ('Da', 'B'), ('Da', '##ur ##ling ##ame'), ('Da', 'California'), ('Da', 'USA'), ('Da', 'Song ##lin Zhao'), ('Da', 'Ron'), ('Da', '##g Zhou'), ('Da', 'Yu Zhang'), ('Da', 'Yong Chen'), ('Da', 'B'), ('Da', 'Computing'), ('Da', 'AI Springer'), ('Da', 'Chen'), ('Da', 'Li'), ('##wei Cheng', 'Xi Lu'), ('##wei Cheng', 'Song'), ('##wei Cheng', '##lin Zhao'), ('##wei Cheng', 'Yun Z ##ong'), ('##wei Cheng', 'Yong Chen'), ('##wei Cheng', 'G'), ('##wei Cheng', '##ui Shu ##ang Ying'), ('##wei Cheng', 'Li'), ('##wei Cheng', '##g He'), ('##wei Cheng', 'Re ##l Disease'), ('##wei Cheng', 'AAA'), ('##wei Cheng', 'AI for Health'), ('##wei Cheng', 'B'), ('##wei Cheng', '##ur ##ling ##ame'), ('##wei Cheng', 'California'), ('##wei Cheng', 'USA'), ('##wei Cheng', 'Song ##lin Zhao'), ('##wei Cheng', 'Ron'), ('##wei Cheng', '##g Zhou'), ('##wei Cheng', 'Yu Zhang'), ('##wei Cheng', 'Yong Chen'), ('##wei Cheng', 'B'), ('##wei Cheng', 'Computing'), ('##wei Cheng', 'AI Springer'), ('##wei Cheng', 'Chen'), ('##wei Cheng', 'Li'), ('Xi Lu', 'Song'), ('Xi Lu', '##lin Zhao'), ('Xi Lu', 'Yun Z ##ong'), ('Xi Lu', 'Yong Chen'), ('Xi Lu', 'G'), ('Xi Lu', '##ui Shu ##ang Ying'), ('Xi Lu', 'Li'), ('Xi Lu', '##g He'), ('Xi Lu', 'Re ##l Disease'), ('Xi Lu', 'AAA'), ('Xi Lu', 'AI for Health'), ('Xi Lu', 'B'), ('Xi Lu', '##ur ##ling ##ame'), ('Xi Lu', 'California'), ('Xi Lu', 'USA'), ('Xi Lu', 'Song ##lin Zhao'), ('Xi Lu', 'Ron'), ('Xi Lu', '##g Zhou'), ('Xi Lu', 'Yu Zhang'), ('Xi Lu', 'Yong Chen'), ('Xi Lu', 'B'), ('Xi Lu', 'Computing'), ('Xi Lu', 'AI Springer'), ('Xi Lu', 'Chen'), ('Xi Lu', 'Li'), ('Song', '##lin Zhao'), ('Song', 'Yun Z ##ong'), ('Song', 'Yong Chen'), ('Song', 'G'), ('Song', '##ui Shu ##ang Ying'), ('Song', 'Li'), ('Song', '##g He'), ('Song', 'Re ##l Disease'), ('Song', 'AAA'), ('Song', 'AI for Health'), ('Song', 'B'), ('Song', '##ur ##ling ##ame'), ('Song', 'California'), ('Song', 'USA'), ('Song', 'Song ##lin Zhao'), ('Song', 'Ron'), ('Song', '##g Zhou'), ('Song', 'Yu Zhang'), ('Song', 'Yong Chen'), ('Song', 'B'), ('Song', 'Computing'), ('Song', 'AI Springer'), ('Song', 'Chen'), ('Song', 'Li'), ('##lin Zhao', 'Yun Z ##ong'), ('##lin Zhao', 'Yong Chen'), ('##lin Zhao', 'G'), ('##lin Zhao', '##ui Shu ##ang Ying'), ('##lin Zhao', 'Li'), ('##lin Zhao', '##g He'), ('##lin Zhao', 'Re ##l Disease'), ('##lin Zhao', 'AAA'), ('##lin Zhao', 'AI for Health'), ('##lin Zhao', 'B'), ('##lin Zhao', '##ur ##ling ##ame'), ('##lin Zhao', 'California'), ('##lin Zhao', 'USA'), ('##lin Zhao', 'Song ##lin Zhao'), ('##lin Zhao', 'Ron'), ('##lin Zhao', '##g Zhou'), ('##lin Zhao', 'Yu Zhang'), ('##lin Zhao', 'Yong Chen'), ('##lin Zhao', 'B'), ('##lin Zhao', 'Computing'), ('##lin Zhao', 'AI Springer'), ('##lin Zhao', 'Chen'), ('##lin Zhao', 'Li'), ('Yun Z ##ong', 'Yong Chen'), ('Yun Z ##ong', 'G'), ('Yun Z ##ong', '##ui Shu ##ang Ying'), ('Yun Z ##ong', 'Li'), ('Yun Z ##ong', '##g He'), ('Yun Z ##ong', 'Re ##l Disease'), ('Yun Z ##ong', 'AAA'), ('Yun Z ##ong', 'AI for Health'), ('Yun Z ##ong', 'B'), ('Yun Z ##ong', '##ur ##ling ##ame'), ('Yun Z ##ong', 'California'), ('Yun Z ##ong', 'USA'), ('Yun Z ##ong', 'Song ##lin Zhao'), ('Yun Z ##ong', 'Ron'), ('Yun Z ##ong', '##g Zhou'), ('Yun Z ##ong', 'Yu Zhang'), ('Yun Z ##ong', 'Yong Chen'), ('Yun Z ##ong', 'B'), ('Yun Z ##ong', 'Computing'), ('Yun Z ##ong', 'AI Springer'), ('Yun Z ##ong', 'Chen'), ('Yun Z ##ong', 'Li'), ('Yong Chen', 'G'), ('Yong Chen', '##ui Shu ##ang Ying'), ('Yong Chen', 'Li'), ('Yong Chen', '##g He'), ('Yong Chen', 'Re ##l Disease'), ('Yong Chen', 'AAA'), ('Yong Chen', 'AI for Health'), ('Yong Chen', 'B'), ('Yong Chen', '##ur ##ling ##ame'), ('Yong Chen', 'California'), ('Yong Chen', 'USA'), ('Yong Chen', 'Song ##lin Zhao'), ('Yong Chen', 'Ron'), ('Yong Chen', '##g Zhou'), ('Yong Chen', 'Yu Zhang'), ('Yong Chen', 'Yong Chen'), ('Yong Chen', 'B'), ('Yong Chen', 'Computing'), ('Yong Chen', 'AI Springer'), ('Yong Chen', 'Chen'), ('Yong Chen', 'Li'), ('G', '##ui Shu ##ang Ying'), ('G', 'Li'), ('G', '##g He'), ('G', 'Re ##l Disease'), ('G', 'AAA'), ('G', 'AI for Health'), ('G', 'B'), ('G', '##ur ##ling ##ame'), ('G', 'California'), ('G', 'USA'), ('G', 'Song ##lin Zhao'), ('G', 'Ron'), ('G', '##g Zhou'), ('G', 'Yu Zhang'), ('G', 'Yong Chen'), ('G', 'B'), ('G', 'Computing'), ('G', 'AI Springer'), ('G', 'Chen'), ('G', 'Li'), ('##ui Shu ##ang Ying', 'Li'), ('##ui Shu ##ang Ying', '##g He'), ('##ui Shu ##ang Ying', 'Re ##l Disease'), ('##ui Shu ##ang Ying', 'AAA'), ('##ui Shu ##ang Ying', 'AI for Health'), ('##ui Shu ##ang Ying', 'B'), ('##ui Shu ##ang Ying', '##ur ##ling ##ame'), ('##ui Shu ##ang Ying', 'California'), ('##ui Shu ##ang Ying', 'USA'), ('##ui Shu ##ang Ying', 'Song ##lin Zhao'), ('##ui Shu ##ang Ying', 'Ron'), ('##ui Shu ##ang Ying', '##g Zhou'), ('##ui Shu ##ang Ying', 'Yu Zhang'), ('##ui Shu ##ang Ying', 'Yong Chen'), ('##ui Shu ##ang Ying', 'B'), ('##ui Shu ##ang Ying', 'Computing'), ('##ui Shu ##ang Ying', 'AI Springer'), ('##ui Shu ##ang Ying', 'Chen'), ('##ui Shu ##ang Ying', 'Li'), ('Li', '##g He'), ('Li', 'Re ##l Disease'), ('Li', 'AAA'), ('Li', 'AI for Health'), ('Li', 'B'), ('Li', '##ur ##ling ##ame'), ('Li', 'California'), ('Li', 'USA'), ('Li', 'Song ##lin Zhao'), ('Li', 'Ron'), ('Li', '##g Zhou'), ('Li', 'Yu Zhang'), ('Li', 'Yong Chen'), ('Li', 'B'), ('Li', 'Computing'), ('Li', 'AI Springer'), ('Li', 'Chen'), ('Li', 'Li'), ('##g He', 'Re ##l Disease'), ('##g He', 'AAA'), ('##g He', 'AI for Health'), ('##g He', 'B'), ('##g He', '##ur ##ling ##ame'), ('##g He', 'California'), ('##g He', 'USA'), ('##g He', 'Song ##lin Zhao'), ('##g He', 'Ron'), ('##g He', '##g Zhou'), ('##g He', 'Yu Zhang'), ('##g He', 'Yong Chen'), ('##g He', 'B'), ('##g He', 'Computing'), ('##g He', 'AI Springer'), ('##g He', 'Chen'), ('##g He', 'Li'), ('Re ##l Disease', 'AAA'), ('Re ##l Disease', 'AI for Health'), ('Re ##l Disease', 'B'), ('Re ##l Disease', '##ur ##ling ##ame'), ('Re ##l Disease', 'California'), ('Re ##l Disease', 'USA'), ('Re ##l Disease', 'Song ##lin Zhao'), ('Re ##l Disease', 'Ron'), ('Re ##l Disease', '##g Zhou'), ('Re ##l Disease', 'Yu Zhang'), ('Re ##l Disease', 'Yong Chen'), ('Re ##l Disease', 'B'), ('Re ##l Disease', 'Computing'), ('Re ##l Disease', 'AI Springer'), ('Re ##l Disease', 'Chen'), ('Re ##l Disease', 'Li'), ('AAA', 'AI for Health'), ('AAA', 'B'), ('AAA', '##ur ##ling ##ame'), ('AAA', 'California'), ('AAA', 'USA'), ('AAA', 'Song ##lin Zhao'), ('AAA', 'Ron'), ('AAA', '##g Zhou'), ('AAA', 'Yu Zhang'), ('AAA', 'Yong Chen'), ('AAA', 'B'), ('AAA', 'Computing'), ('AAA', 'AI Springer'), ('AAA', 'Chen'), ('AAA', 'Li'), ('AI for Health', 'B'), ('AI for Health', '##ur ##ling ##ame'), ('AI for Health', 'California'), ('AI for Health', 'USA'), ('AI for Health', 'Song ##lin Zhao'), ('AI for Health', 'Ron'), ('AI for Health', '##g Zhou'), ('AI for Health', 'Yu Zhang'), ('AI for Health', 'Yong Chen'), ('AI for Health', 'B'), ('AI for Health', 'Computing'), ('AI for Health', 'AI Springer'), ('AI for Health', 'Chen'), ('AI for Health', 'Li'), ('B', '##ur ##ling ##ame'), ('B', 'California'), ('B', 'USA'), ('B', 'Song ##lin Zhao'), ('B', 'Ron'), ('B', '##g Zhou'), ('B', 'Yu Zhang'), ('B', 'Yong Chen'), ('B', 'B'), ('B', 'Computing'), ('B', 'AI Springer'), ('B', 'Chen'), ('B', 'Li'), ('##ur ##ling ##ame', 'California'), ('##ur ##ling ##ame', 'USA'), ('##ur ##ling ##ame', 'Song ##lin Zhao'), ('##ur ##ling ##ame', 'Ron'), ('##ur ##ling ##ame', '##g Zhou'), ('##ur ##ling ##ame', 'Yu Zhang'), ('##ur ##ling ##ame', 'Yong Chen'), ('##ur ##ling ##ame', 'B'), ('##ur ##ling ##ame', 'Computing'), ('##ur ##ling ##ame', 'AI Springer'), ('##ur ##ling ##ame', 'Chen'), ('##ur ##ling ##ame', 'Li'), ('California', 'USA'), ('California', 'Song ##lin Zhao'), ('California', 'Ron'), ('California', '##g Zhou'), ('California', 'Yu Zhang'), ('California', 'Yong Chen'), ('California', 'B'), ('California', 'Computing'), ('California', 'AI Springer'), ('California', 'Chen'), ('California', 'Li'), ('USA', 'Song ##lin Zhao'), ('USA', 'Ron'), ('USA', '##g Zhou'), ('USA', 'Yu Zhang'), ('USA', 'Yong Chen'), ('USA', 'B'), ('USA', 'Computing'), ('USA', 'AI Springer'), ('USA', 'Chen'), ('USA', 'Li'), ('Song ##lin Zhao', 'Ron'), ('Song ##lin Zhao', '##g Zhou'), ('Song ##lin Zhao', 'Yu Zhang'), ('Song ##lin Zhao', 'Yong Chen'), ('Song ##lin Zhao', 'B'), ('Song ##lin Zhao', 'Computing'), ('Song ##lin Zhao', 'AI Springer'), ('Song ##lin Zhao', 'Chen'), ('Song ##lin Zhao', 'Li'), ('Ron', '##g Zhou'), ('Ron', 'Yu Zhang'), ('Ron', 'Yong Chen'), ('Ron', 'B'), ('Ron', 'Computing'), ('Ron', 'AI Springer'), ('Ron', 'Chen'), ('Ron', 'Li'), ('##g Zhou', 'Yu Zhang'), ('##g Zhou', 'Yong Chen'), ('##g Zhou', 'B'), ('##g Zhou', 'Computing'), ('##g Zhou', 'AI Springer'), ('##g Zhou', 'Chen'), ('##g Zhou', 'Li'), ('Yu Zhang', 'Yong Chen'), ('Yu Zhang', 'B'), ('Yu Zhang', 'Computing'), ('Yu Zhang', 'AI Springer'), ('Yu Zhang', 'Chen'), ('Yu Zhang', 'Li'), ('Yong Chen', 'B'), ('Yong Chen', 'Computing'), ('Yong Chen', 'AI Springer'), ('Yong Chen', 'Chen'), ('Yong Chen', 'Li'), ('B', 'Computing'), ('B', 'AI Springer'), ('B', 'Chen'), ('B', 'Li'), ('Computing', 'AI Springer'), ('Computing', 'Chen'), ('Computing', 'Li'), ('AI Springer', 'Chen'), ('AI Springer', 'Li'), ('Chen', 'Li')]\n"
     ]
    },
    {
     "name": "stderr",
     "output_type": "stream",
     "text": [
      "/tmp/ipykernel_147461/2578048935.py:68: DeprecationWarning: write_transaction has been renamed to execute_write\n",
      "  session.write_transaction(add_concept, concept)\n",
      "/tmp/ipykernel_147461/2578048935.py:70: DeprecationWarning: write_transaction has been renamed to execute_write\n",
      "  session.write_transaction(add_relationship, rel[0], rel[1])\n"
     ]
    },
    {
     "name": "stdout",
     "output_type": "stream",
     "text": [
      "Knowledge graph stored in Neo4j!\n"
     ]
    }
   ],
   "source": [
    "import re\n",
    "import nltk\n",
    "nltk.download('punkt')\n",
    "from nltk.tokenize import sent_tokenize\n",
    "from langchain.text_splitter import CharacterTextSplitter\n",
    "from transformers import pipeline\n",
    "from neo4j import GraphDatabase\n",
    "\n",
    "# Read and clean text\n",
    "with open('input_text.txt', 'r') as file:\n",
    "    text = file.read()\n",
    "\n",
    "def clean_text(text):\n",
    "    text = re.sub(r'\\s+', ' ', text)\n",
    "    return text.strip()\n",
    "\n",
    "cleaned_text = clean_text(text)\n",
    "sentences = sent_tokenize(cleaned_text)\n",
    "\n",
    "# Chunk text\n",
    "text_splitter = CharacterTextSplitter(chunk_size=2000, chunk_overlap=200)\n",
    "chunks = text_splitter.split_text(cleaned_text)\n",
    "print(f\"Number of chunks: {len(chunks)}\")\n",
    "\n",
    "# Extract concepts with a better NER model\n",
    "ner_pipeline = pipeline(\"ner\", model=\"dslim/bert-base-NER\")\n",
    "def extract_entities(chunk):\n",
    "    entities = ner_pipeline(chunk)\n",
    "    extracted = []\n",
    "    current_entity = []\n",
    "    for entity in entities:\n",
    "        if entity['entity'].startswith('B-'):\n",
    "            if current_entity:\n",
    "                extracted.append(\" \".join(current_entity))\n",
    "            current_entity = [entity['word']]\n",
    "        elif entity['entity'].startswith('I-'):\n",
    "            current_entity.append(entity['word'])\n",
    "    if current_entity:\n",
    "        extracted.append(\" \".join(current_entity))\n",
    "    print(f\"Chunk: {chunk[:50]}... | Entities: {extracted}\")\n",
    "    return extracted\n",
    "\n",
    "concepts = [extract_entities(chunk) for chunk in chunks]\n",
    "print(f\"Concepts: {concepts}\")\n",
    "\n",
    "# Extract relationships\n",
    "relationships = []\n",
    "for chunk_concepts in concepts:\n",
    "    print(f\"Chunk concepts: {chunk_concepts}\")\n",
    "    for i in range(len(chunk_concepts)):\n",
    "        for j in range(i + 1, len(chunk_concepts)):\n",
    "            relationships.append((chunk_concepts[i], chunk_concepts[j]))\n",
    "\n",
    "print(f\"Relationships: {relationships}\")\n",
    "\n",
    "# Store in Neo4j\n",
    "driver = GraphDatabase.driver(\"bolt://45.55.34.153:7687\", auth=(\"neo4j\", \"password\"))\n",
    "\n",
    "def add_concept(tx, name):\n",
    "    tx.run(\"MERGE (c:Concept {name: $name})\", name=name)\n",
    "\n",
    "def add_relationship(tx, concept1, concept2):\n",
    "    tx.run(\"MATCH (c1:Concept {name: $concept1}), (c2:Concept {name: $concept2}) \"\n",
    "           \"MERGE (c1)-[:RELATED_TO]->(c2)\", concept1=concept1, concept2=concept2)\n",
    "\n",
    "with driver.session() as session:\n",
    "    for concept in set(sum(concepts, [])):\n",
    "        session.write_transaction(add_concept, concept)\n",
    "    for rel in relationships:\n",
    "        session.write_transaction(add_relationship, rel[0], rel[1])\n",
    "\n",
    "driver.close()\n",
    "print(\"Knowledge graph stored in Neo4j!\")"
   ]
  }
 ],
 "metadata": {
  "kernelspec": {
   "display_name": "venv",
   "language": "python",
   "name": "python3"
  },
  "language_info": {
   "codemirror_mode": {
    "name": "ipython",
    "version": 3
   },
   "file_extension": ".py",
   "mimetype": "text/x-python",
   "name": "python",
   "nbconvert_exporter": "python",
   "pygments_lexer": "ipython3",
   "version": "3.12.7"
  }
 },
 "nbformat": 4,
 "nbformat_minor": 2
}
